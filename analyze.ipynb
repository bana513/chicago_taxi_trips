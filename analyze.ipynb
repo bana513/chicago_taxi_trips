{
 "cells": [
  {
   "cell_type": "code",
   "execution_count": 45,
   "metadata": {},
   "outputs": [],
   "source": [
    "import pandas as pd\n",
    "import numpy as np\n",
    "import matplotlib.pyplot as plt\n",
    "%matplotlib inline\n",
    "pd.options.display.max_columns = None"
   ]
  },
  {
   "cell_type": "code",
   "execution_count": 2,
   "metadata": {},
   "outputs": [
    {
     "name": "stderr",
     "output_type": "stream",
     "text": [
      "/usr/local/lib/python3.5/dist-packages/IPython/core/interactiveshell.py:3058: DtypeWarning: Columns (19,22) have mixed types. Specify dtype option on import or set low_memory=False.\n",
      "  interactivity=interactivity, compiler=compiler, result=result)\n"
     ]
    }
   ],
   "source": [
    "df = pd.read_csv(\"taxi_1m.csv\")"
   ]
  },
  {
   "cell_type": "code",
   "execution_count": 46,
   "metadata": {},
   "outputs": [
    {
     "data": {
      "text/html": [
       "<div>\n",
       "<style scoped>\n",
       "    .dataframe tbody tr th:only-of-type {\n",
       "        vertical-align: middle;\n",
       "    }\n",
       "\n",
       "    .dataframe tbody tr th {\n",
       "        vertical-align: top;\n",
       "    }\n",
       "\n",
       "    .dataframe thead th {\n",
       "        text-align: right;\n",
       "    }\n",
       "</style>\n",
       "<table border=\"1\" class=\"dataframe\">\n",
       "  <thead>\n",
       "    <tr style=\"text-align: right;\">\n",
       "      <th></th>\n",
       "      <th>taxi_id</th>\n",
       "      <th>trip_start_timestamp</th>\n",
       "      <th>trip_end_timestamp</th>\n",
       "      <th>trip_seconds</th>\n",
       "      <th>trip_miles</th>\n",
       "      <th>pickup_census_tract</th>\n",
       "      <th>dropoff_census_tract</th>\n",
       "      <th>pickup_community_area</th>\n",
       "      <th>dropoff_community_area</th>\n",
       "      <th>fare</th>\n",
       "      <th>tips</th>\n",
       "      <th>tolls</th>\n",
       "      <th>extras</th>\n",
       "      <th>trip_total</th>\n",
       "      <th>payment_type</th>\n",
       "      <th>company</th>\n",
       "      <th>pickup_latitude</th>\n",
       "      <th>pickup_longitude</th>\n",
       "      <th>dropoff_latitude</th>\n",
       "      <th>dropoff_longitude</th>\n",
       "    </tr>\n",
       "  </thead>\n",
       "  <tbody>\n",
       "    <tr>\n",
       "      <th>0</th>\n",
       "      <td>c49f0ddc62fe52ff6d19832b7168a6818f17d8ccb7f59a...</td>\n",
       "      <td>2015-10-15 22:30:00+00:00</td>\n",
       "      <td>2015-10-15 22:45:00+00:00</td>\n",
       "      <td>1080.0</td>\n",
       "      <td>8.4</td>\n",
       "      <td>NaN</td>\n",
       "      <td>NaN</td>\n",
       "      <td>14.0</td>\n",
       "      <td>NaN</td>\n",
       "      <td>21.45</td>\n",
       "      <td>0.00</td>\n",
       "      <td>0.0</td>\n",
       "      <td>5.0</td>\n",
       "      <td>26.45</td>\n",
       "      <td>Cash</td>\n",
       "      <td>Taxi Affiliation Services</td>\n",
       "      <td>41.968069</td>\n",
       "      <td>-87.721559</td>\n",
       "      <td>NaN</td>\n",
       "      <td>NaN</td>\n",
       "    </tr>\n",
       "    <tr>\n",
       "      <th>1</th>\n",
       "      <td>1e5b69c83640bd5225fb3ccc33bc989b859f3e4cdb59f6...</td>\n",
       "      <td>2015-10-15 01:00:00+00:00</td>\n",
       "      <td>2015-10-15 01:15:00+00:00</td>\n",
       "      <td>720.0</td>\n",
       "      <td>7.6</td>\n",
       "      <td>NaN</td>\n",
       "      <td>NaN</td>\n",
       "      <td>14.0</td>\n",
       "      <td>NaN</td>\n",
       "      <td>17.25</td>\n",
       "      <td>0.00</td>\n",
       "      <td>0.0</td>\n",
       "      <td>0.0</td>\n",
       "      <td>17.25</td>\n",
       "      <td>Cash</td>\n",
       "      <td>Dispatch Taxi Affiliation</td>\n",
       "      <td>41.968069</td>\n",
       "      <td>-87.721559</td>\n",
       "      <td>NaN</td>\n",
       "      <td>NaN</td>\n",
       "    </tr>\n",
       "    <tr>\n",
       "      <th>2</th>\n",
       "      <td>d3a5f1452b4a1db2a547e7a0aabfe28d67c62b0e40155f...</td>\n",
       "      <td>2015-10-30 02:15:00+00:00</td>\n",
       "      <td>2015-10-30 02:45:00+00:00</td>\n",
       "      <td>1500.0</td>\n",
       "      <td>18.3</td>\n",
       "      <td>NaN</td>\n",
       "      <td>NaN</td>\n",
       "      <td>14.0</td>\n",
       "      <td>NaN</td>\n",
       "      <td>37.25</td>\n",
       "      <td>7.65</td>\n",
       "      <td>0.0</td>\n",
       "      <td>1.0</td>\n",
       "      <td>45.90</td>\n",
       "      <td>Credit Card</td>\n",
       "      <td>Dispatch Taxi Affiliation</td>\n",
       "      <td>41.968069</td>\n",
       "      <td>-87.721559</td>\n",
       "      <td>NaN</td>\n",
       "      <td>NaN</td>\n",
       "    </tr>\n",
       "    <tr>\n",
       "      <th>3</th>\n",
       "      <td>b4536ae68b6ac3fbe936c28e5c6739c9145a08443e70a7...</td>\n",
       "      <td>2015-10-30 21:00:00+00:00</td>\n",
       "      <td>2015-10-30 21:00:00+00:00</td>\n",
       "      <td>0.0</td>\n",
       "      <td>0.0</td>\n",
       "      <td>NaN</td>\n",
       "      <td>NaN</td>\n",
       "      <td>14.0</td>\n",
       "      <td>NaN</td>\n",
       "      <td>3.25</td>\n",
       "      <td>0.00</td>\n",
       "      <td>0.0</td>\n",
       "      <td>0.0</td>\n",
       "      <td>3.25</td>\n",
       "      <td>Cash</td>\n",
       "      <td>Taxi Affiliation Services</td>\n",
       "      <td>41.968069</td>\n",
       "      <td>-87.721559</td>\n",
       "      <td>NaN</td>\n",
       "      <td>NaN</td>\n",
       "    </tr>\n",
       "    <tr>\n",
       "      <th>4</th>\n",
       "      <td>ad33dffdd6cd00795ea1a00a6a6db1a38482075d532b55...</td>\n",
       "      <td>2015-09-26 08:30:00+00:00</td>\n",
       "      <td>2015-09-26 08:45:00+00:00</td>\n",
       "      <td>720.0</td>\n",
       "      <td>3.6</td>\n",
       "      <td>NaN</td>\n",
       "      <td>NaN</td>\n",
       "      <td>14.0</td>\n",
       "      <td>NaN</td>\n",
       "      <td>10.65</td>\n",
       "      <td>0.00</td>\n",
       "      <td>0.0</td>\n",
       "      <td>0.0</td>\n",
       "      <td>10.65</td>\n",
       "      <td>Cash</td>\n",
       "      <td>Dispatch Taxi Affiliation</td>\n",
       "      <td>41.968069</td>\n",
       "      <td>-87.721559</td>\n",
       "      <td>NaN</td>\n",
       "      <td>NaN</td>\n",
       "    </tr>\n",
       "  </tbody>\n",
       "</table>\n",
       "</div>"
      ],
      "text/plain": [
       "                                             taxi_id  \\\n",
       "0  c49f0ddc62fe52ff6d19832b7168a6818f17d8ccb7f59a...   \n",
       "1  1e5b69c83640bd5225fb3ccc33bc989b859f3e4cdb59f6...   \n",
       "2  d3a5f1452b4a1db2a547e7a0aabfe28d67c62b0e40155f...   \n",
       "3  b4536ae68b6ac3fbe936c28e5c6739c9145a08443e70a7...   \n",
       "4  ad33dffdd6cd00795ea1a00a6a6db1a38482075d532b55...   \n",
       "\n",
       "        trip_start_timestamp         trip_end_timestamp  trip_seconds  \\\n",
       "0  2015-10-15 22:30:00+00:00  2015-10-15 22:45:00+00:00        1080.0   \n",
       "1  2015-10-15 01:00:00+00:00  2015-10-15 01:15:00+00:00         720.0   \n",
       "2  2015-10-30 02:15:00+00:00  2015-10-30 02:45:00+00:00        1500.0   \n",
       "3  2015-10-30 21:00:00+00:00  2015-10-30 21:00:00+00:00           0.0   \n",
       "4  2015-09-26 08:30:00+00:00  2015-09-26 08:45:00+00:00         720.0   \n",
       "\n",
       "   trip_miles  pickup_census_tract  dropoff_census_tract  \\\n",
       "0         8.4                  NaN                   NaN   \n",
       "1         7.6                  NaN                   NaN   \n",
       "2        18.3                  NaN                   NaN   \n",
       "3         0.0                  NaN                   NaN   \n",
       "4         3.6                  NaN                   NaN   \n",
       "\n",
       "   pickup_community_area  dropoff_community_area   fare  tips  tolls  extras  \\\n",
       "0                   14.0                     NaN  21.45  0.00    0.0     5.0   \n",
       "1                   14.0                     NaN  17.25  0.00    0.0     0.0   \n",
       "2                   14.0                     NaN  37.25  7.65    0.0     1.0   \n",
       "3                   14.0                     NaN   3.25  0.00    0.0     0.0   \n",
       "4                   14.0                     NaN  10.65  0.00    0.0     0.0   \n",
       "\n",
       "   trip_total payment_type                    company  pickup_latitude  \\\n",
       "0       26.45         Cash  Taxi Affiliation Services        41.968069   \n",
       "1       17.25         Cash  Dispatch Taxi Affiliation        41.968069   \n",
       "2       45.90  Credit Card  Dispatch Taxi Affiliation        41.968069   \n",
       "3        3.25         Cash  Taxi Affiliation Services        41.968069   \n",
       "4       10.65         Cash  Dispatch Taxi Affiliation        41.968069   \n",
       "\n",
       "   pickup_longitude  dropoff_latitude  dropoff_longitude  \n",
       "0        -87.721559               NaN                NaN  \n",
       "1        -87.721559               NaN                NaN  \n",
       "2        -87.721559               NaN                NaN  \n",
       "3        -87.721559               NaN                NaN  \n",
       "4        -87.721559               NaN                NaN  "
      ]
     },
     "execution_count": 46,
     "metadata": {},
     "output_type": "execute_result"
    }
   ],
   "source": [
    "df.head()"
   ]
  },
  {
   "cell_type": "code",
   "execution_count": 14,
   "metadata": {},
   "outputs": [
    {
     "data": {
      "text/plain": [
       "(1000000, 22)"
      ]
     },
     "execution_count": 14,
     "metadata": {},
     "output_type": "execute_result"
    }
   ],
   "source": [
    "df.shape"
   ]
  },
  {
   "cell_type": "code",
   "execution_count": 7,
   "metadata": {},
   "outputs": [],
   "source": [
    "# Drop unique_key, row id has same meaning for us\n",
    "df.drop(columns=[\"unique_key\"], inplace=True)"
   ]
  },
  {
   "cell_type": "code",
   "execution_count": 8,
   "metadata": {},
   "outputs": [
    {
     "data": {
      "text/plain": [
       "Index(['taxi_id', 'trip_start_timestamp', 'trip_end_timestamp', 'trip_seconds',\n",
       "       'trip_miles', 'pickup_census_tract', 'dropoff_census_tract',\n",
       "       'pickup_community_area', 'dropoff_community_area', 'fare', 'tips',\n",
       "       'tolls', 'extras', 'trip_total', 'payment_type', 'company',\n",
       "       'pickup_latitude', 'pickup_longitude', 'pickup_location',\n",
       "       'dropoff_latitude', 'dropoff_longitude', 'dropoff_location'],\n",
       "      dtype='object')"
      ]
     },
     "execution_count": 8,
     "metadata": {},
     "output_type": "execute_result"
    }
   ],
   "source": [
    "df.columns"
   ]
  },
  {
   "cell_type": "code",
   "execution_count": 17,
   "metadata": {},
   "outputs": [
    {
     "name": "stdout",
     "output_type": "stream",
     "text": [
      "0\n",
      "0\n"
     ]
    }
   ],
   "source": [
    "# Check added info of pickup/dropoff location\n",
    "print(df[pd.isna(df.pickup_location) ^ (pd.isna(df.pickup_latitude) | pd.isna(df.pickup_longitude))].shape[0])\n",
    "print(df[pd.isna(df.dropoff_location) ^ (pd.isna(df.dropoff_latitude) | pd.isna(df.dropoff_longitude))].shape[0])"
   ]
  },
  {
   "cell_type": "code",
   "execution_count": 20,
   "metadata": {},
   "outputs": [],
   "source": [
    "# Drop pickup/dropoff location as they do not contain any additional info\n",
    "df.drop(columns=[\"pickup_location\", \"dropoff_location\"], inplace=True)"
   ]
  },
  {
   "cell_type": "code",
   "execution_count": 21,
   "metadata": {},
   "outputs": [
    {
     "name": "stdout",
     "output_type": "stream",
     "text": [
      "41.660136051 42.021223593\n",
      "-87.913624596 -87.53490290100001\n",
      "41.660136051 42.016046492\n",
      "-87.913624596 -87.53490290100001\n"
     ]
    }
   ],
   "source": [
    "# Check for mislabelad lat/lon\n",
    "print(df.pickup_latitude.min(), df.pickup_latitude.max())\n",
    "print(df.pickup_longitude.min(), df.pickup_longitude.max())\n",
    "print(df.dropoff_latitude.min(), df.dropoff_latitude.max())\n",
    "print(df.dropoff_longitude.min(), df.dropoff_longitude.max())"
   ]
  },
  {
   "cell_type": "code",
   "execution_count": 22,
   "metadata": {},
   "outputs": [],
   "source": [
    "# All seems valid\n",
    "# Nothing to do ..."
   ]
  },
  {
   "cell_type": "markdown",
   "metadata": {},
   "source": [
    "# Plot trip time, distance, fare, tips, tolls, extras, trip_total"
   ]
  },
  {
   "cell_type": "code",
   "execution_count": 24,
   "metadata": {},
   "outputs": [
    {
     "data": {
      "image/png": "[encoded data removed]",
      "text/plain": [
       "<Figure size 432x288 with 1 Axes>"
      ]
     },
     "metadata": {
      "needs_background": "light"
     },
     "output_type": "display_data"
    }
   ],
   "source": [
    "plt.hist(df.trip_seconds, bins=50);"
   ]
  },
  {
   "cell_type": "code",
   "execution_count": 34,
   "metadata": {},
   "outputs": [
    {
     "data": {
      "image/png": "[encoded data removed]",
      "text/plain": [
       "<Figure size 432x288 with 1 Axes>"
      ]
     },
     "metadata": {
      "needs_background": "light"
     },
     "output_type": "display_data"
    }
   ],
   "source": [
    "plt.hist(df.trip_seconds[(0 < df.trip_seconds) & (df.trip_seconds < 8000)], bins=50);"
   ]
  },
  {
   "cell_type": "code",
   "execution_count": 35,
   "metadata": {},
   "outputs": [
    {
     "data": {
      "image/png": "[encoded data removed]",
      "text/plain": [
       "<Figure size 432x288 with 1 Axes>"
      ]
     },
     "metadata": {
      "needs_background": "light"
     },
     "output_type": "display_data"
    }
   ],
   "source": [
    "plt.hist(df.trip_miles, bins=50);"
   ]
  },
  {
   "cell_type": "code",
   "execution_count": 38,
   "metadata": {},
   "outputs": [
    {
     "data": {
      "image/png": "[encoded data removed]",
      "text/plain": [
       "<Figure size 432x288 with 1 Axes>"
      ]
     },
     "metadata": {
      "needs_background": "light"
     },
     "output_type": "display_data"
    }
   ],
   "source": [
    "plt.hist(df.trip_miles[(0 < df.trip_miles) & (df.trip_miles < 40)], bins=50);"
   ]
  },
  {
   "cell_type": "code",
   "execution_count": 47,
   "metadata": {},
   "outputs": [
    {
     "name": "stdout",
     "output_type": "stream",
     "text": [
      "# trips longer than 100 miles: 299\n"
     ]
    }
   ],
   "source": [
    "print(\"# trips longer than 100 miles:\", (df.trip_miles > 100).sum())"
   ]
  },
  {
   "cell_type": "code",
   "execution_count": 51,
   "metadata": {},
   "outputs": [
    {
     "data": {
      "image/png": "[encoded data removed]",
      "text/plain": [
       "<Figure size 432x288 with 1 Axes>"
      ]
     },
     "metadata": {
      "needs_background": "light"
     },
     "output_type": "display_data"
    }
   ],
   "source": [
    "plt.hist(df.fare[(0 < df.fare) & (df.fare < 100)], bins=50);"
   ]
  },
  {
   "cell_type": "code",
   "execution_count": 52,
   "metadata": {},
   "outputs": [
    {
     "data": {
      "image/png": "[encoded data removed]",
      "text/plain": [
       "<Figure size 432x288 with 1 Axes>"
      ]
     },
     "metadata": {
      "needs_background": "light"
     },
     "output_type": "display_data"
    }
   ],
   "source": [
    "plt.hist(df.trip_total[(df.trip_total < 100)], bins=50);"
   ]
  },
  {
   "cell_type": "code",
   "execution_count": 107,
   "metadata": {},
   "outputs": [],
   "source": [
    "labels = []\n",
    "ys = []\n",
    "stds = []\n",
    "percents = []\n",
    "for low in range(0,150,5):\n",
    "    high = low + 5\n",
    "    labels.append(high)\n",
    "    rows = df[(df.trip_total >= low) & (df.trip_total < high)]\n",
    "    ys.append([rows.fare.mean(), rows.tips.mean(), rows.tolls.mean(), rows.extras.mean()])\n",
    "    stds.append([rows.fare.std(), rows.tips.std(), rows.tolls.std(), rows.extras.std()])\n",
    "    percents.append([np.mean(rows.fare/rows.trip_total),\n",
    "                     np.mean(rows.tips/rows.trip_total),\n",
    "                     np.mean(rows.tolls/rows.trip_total),\n",
    "                     np.mean(rows.extras/rows.trip_total)])\n",
    "    \n",
    "ys = np.array(ys).T\n",
    "stds = np.array(stds).T\n",
    "percents = np.array(percents).T"
   ]
  },
  {
   "cell_type": "code",
   "execution_count": 108,
   "metadata": {},
   "outputs": [
    {
     "data": {
      "image/png": "[encoded data removed]",
      "text/plain": [
       "<Figure size 1152x432 with 1 Axes>"
      ]
     },
     "metadata": {
      "needs_background": "light"
     },
     "output_type": "display_data"
    }
   ],
   "source": [
    "plt.figure(figsize=(16,6))\n",
    "idx = np.arange(len(labels))\n",
    "width = 0.35       # the width of the bars: can also be len(x) sequence\n",
    "\n",
    "bottom = np.zeros(len(labels))\n",
    "for y, std, label in zip(ys, stds, [\"fare\", \"tips\", \"tolls\", \"extras\"]):\n",
    "    plt.bar(idx, y, width, yerr=std, label=label, bottom=bottom)\n",
    "    bottom = bottom + y\n",
    "\n",
    "plt.ylabel('Trip total')\n",
    "plt.title('USD amount')\n",
    "plt.xticks(idx, labels)\n",
    "plt.yticks(np.arange(0, 150, 5))\n",
    "\n",
    "plt.legend(loc=\"upper left\")\n",
    "plt.show()"
   ]
  },
  {
   "cell_type": "code",
   "execution_count": 112,
   "metadata": {},
   "outputs": [
    {
     "data": {
      "image/png": "[encoded data removed]",
      "text/plain": [
       "<Figure size 1152x432 with 1 Axes>"
      ]
     },
     "metadata": {
      "needs_background": "light"
     },
     "output_type": "display_data"
    }
   ],
   "source": [
    "plt.figure(figsize=(16,6))\n",
    "idx = np.arange(len(labels))\n",
    "width = 0.35       # the width of the bars: can also be len(x) sequence\n",
    "\n",
    "bottom = np.zeros(len(labels))\n",
    "for p, label in zip(percents, [\"fare\", \"tips\", \"tolls\", \"extras\"]):\n",
    "    plt.bar(idx, p, width, label=label, bottom=bottom)\n",
    "    bottom = bottom + p\n",
    "\n",
    "plt.title('Amount percentage')\n",
    "plt.xticks(idx, labels)\n",
    "plt.yticks(np.arange(0, 1, .1))\n",
    "\n",
    "plt.legend(loc=\"lower right\")\n",
    "plt.show()"
   ]
  },
  {
   "cell_type": "code",
   "execution_count": null,
   "metadata": {},
   "outputs": [],
   "source": []
  }
 ],
 "metadata": {
  "kernelspec": {
   "display_name": "Python 3",
   "language": "python",
   "name": "python3"
  },
  "language_info": {
   "codemirror_mode": {
    "name": "ipython",
    "version": 3
   },
   "file_extension": ".py",
   "mimetype": "text/x-python",
   "name": "python",
   "nbconvert_exporter": "python",
   "pygments_lexer": "ipython3",
   "version": "3.5.3"
  }
 },
 "nbformat": 4,
 "nbformat_minor": 4
}
